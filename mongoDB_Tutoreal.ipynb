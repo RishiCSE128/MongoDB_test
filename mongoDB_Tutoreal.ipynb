{
 "cells": [
  {
   "cell_type": "markdown",
   "source": [
    "# Install Mongo DB\r\n",
    "1. Install Mongodb from apt\r\n",
    "    ```\r\n",
    "    sudo apt -y install mongodb\r\n",
    "    ```\r\n",
    "2. Use the mongo shell\r\n",
    "    ```\r\n",
    "    mongo \r\n",
    "    ```\r\n",
    "3. Check the inbuild databases \r\n",
    "    ```\r\n",
    "    show dbs\r\n",
    "\r\n",
    "    admin   0.000GB\r\n",
    "    config  0.000GB\r\n",
    "    local   0.000GB\r\n",
    "    ```\r\n",
    "4. swich between databases \r\n",
    "    ```\r\n",
    "    use <db-name>\r\n",
    "    ```\r\n",
    "5. Drop a tabase \r\n",
    "    ```\r\n",
    "    use <db-name>   \r\n",
    "    db.dropDatabase()\r\n",
    "    ```\r\n",
    "6. Create a new database\r\n",
    "    ```\r\n",
    "    use test_db                     # creates a new databse test_db if not exists\r\n",
    "    show dbs                        # does not show test_db as the database is empty\r\n",
    "    db                              # shows which db is selected\r\n",
    "    db.createCollection('infos')    # add a collection to the selected db\r\n",
    "    show collections                # shows collection \r\n",
    "    ```"
   ],
   "metadata": {}
  },
  {
   "cell_type": "markdown",
   "source": [
    "# Basic DB Manipulation\r\n",
    "\r\n",
    "## Inserting data\r\n",
    "Insert a JSON data into the `test_db.infos` collection \r\n",
    "\r\n",
    "```\r\n",
    "db.infos.insert({\r\n",
    "    'host' : '192.168.10.1',\r\n",
    "    'username' : 'user1',\r\n",
    "    'password' : 'passwd123',\r\n",
    "    'port' : 5000,\r\n",
    "    'services': ['ssh', 'docker', 'git', 'http'], \r\n",
    "    'utilization': {\r\n",
    "        timestamp : Date(),\r\n",
    "        'cpu' :  Math.round( Math.random()*100 , 3 )\r\n",
    "        'mem' :  Math.round( Math.random()*100 , 3 )\r\n",
    "        'net' :  Math.round( Math.random()*100 , 3 )\r\n",
    "    }\r\n",
    "})\r\n",
    "```"
   ],
   "metadata": {}
  },
  {
   "cell_type": "markdown",
   "source": [],
   "metadata": {}
  }
 ],
 "metadata": {
  "orig_nbformat": 4,
  "language_info": {
   "name": "python"
  }
 },
 "nbformat": 4,
 "nbformat_minor": 2
}